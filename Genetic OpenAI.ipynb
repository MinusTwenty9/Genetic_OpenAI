{
 "cells": [
  {
   "cell_type": "code",
   "execution_count": 1,
   "metadata": {
    "collapsed": false
   },
   "outputs": [
    {
     "name": "stderr",
     "output_type": "stream",
     "text": [
      "[2017-02-12 02:09:48,035] You have 'numpy' version 1.8.2 installed, but 'gym' requires at least 1.10.4. HINT: upgrade via 'pip install -U numpy'.\n"
     ]
    }
   ],
   "source": [
    "# genetic_openai.py \n",
    "# This is a genetic algorithm that tries to optimize the weights \n",
    "# of a simple neural network. The network chooses the action to  \n",
    "# take based on the environment state. \n",
    "# A population of randomly initialized agents is introduced and  \n",
    "# tested. A percentage of the agents with the top fitness score  \n",
    "# is selected to be the parents of the next generation. The children \n",
    "# are crossovers of the parent networks - here called mutated - and \n",
    "# randomly changed parent network - here called randomized.\n",
    "\n",
    "# Imports needed\n",
    "import gym\n",
    "import numpy as np"
   ]
  },
  {
   "cell_type": "code",
   "execution_count": 2,
   "metadata": {
    "collapsed": true
   },
   "outputs": [],
   "source": [
    "# Initializing the starting population\n",
    "def init(input_size, output_size, layer_count, hidden_size, population_size):\n",
    "    nets = [] # Randomly initialized nn's\n",
    "    \n",
    "    for i in range(population_size):\n",
    "        net = []\n",
    "        \n",
    "        for j in range(layer_count+1):\n",
    "            if j == 0:\n",
    "                l0 = input_size\n",
    "            else:\n",
    "                l0 = hidden_size[j-1]\n",
    "                \n",
    "            if j >= layer_count:\n",
    "                l1 = output_size\n",
    "            else:\n",
    "                l1 = hidden_size[j]\n",
    "                \n",
    "            w = 2*np.random.random((l0,l1))-1\n",
    "            net.append(w)\n",
    "        nets.append(net)\n",
    "    return nets\n"
   ]
  },
  {
   "cell_type": "code",
   "execution_count": 3,
   "metadata": {
    "collapsed": true
   },
   "outputs": [],
   "source": [
    "# Run the provided network on the current state(inp) \n",
    "# if box return action index\n",
    "# else return numpy float array \n",
    "def get_action(net,inp,box=False):\n",
    "    \n",
    "    # Nonlinear Sigmoid function \n",
    "    def nonlin(x):\n",
    "        return 1 / (1 + np.exp(-x))\n",
    "    \n",
    "    o = inp\n",
    "    for i in range(len(net)):\n",
    "        w = net[i] # Network weights, shape=[layer_0 weights, layer_1 weights]\n",
    "        o = np.dot(o,w) # Take the dotproduct of the input or output\n",
    "                        # of the last layer to get the output of the\n",
    "                        # new layer.\n",
    "                \n",
    "        # if box dont apply the sigmoid function on the last layer \n",
    "        # to get linear output\n",
    "        if not box or i < len(net)-1:\n",
    "            o = nonlin(o)\n",
    "            \n",
    "    if not box:\n",
    "        return np.argmax(o) # numpy array\n",
    "    return o # int index\n",
    "\n",
    "# Compute the fitness of a provided network based on the environment.\n",
    "# Stop after length frames\n",
    "def train(net,length,env,box, render = False):\n",
    "    observation = env.reset()\n",
    "    done = False\n",
    "    fit = 0\n",
    "    i = 0\n",
    "    while not done:\n",
    "        if render:\n",
    "            env.render()\n",
    "        action = get_action(net,observation,box) # Feed the nn with the\n",
    "                                                 # env state to get aciton\n",
    "        observation, reward, done, info = env.step(action)\n",
    "        fit += reward\n",
    "        i += 1\n",
    "        \n",
    "        if i >= length:\n",
    "            break\n",
    "    return fit\n"
   ]
  },
  {
   "cell_type": "code",
   "execution_count": 4,
   "metadata": {
    "collapsed": true
   },
   "outputs": [],
   "source": [
    "# Clones a list of numpy arrays\n",
    "def clone_net(net):\n",
    "    return [x.copy() for x in net]\n",
    "\n",
    "# Choose the parents of the next generation (nets are sorted based on fitness)\n",
    "def choose_parents(nets, population_size = -1):\n",
    "    if len(nets) == 0:\n",
    "        return []\n",
    "    \n",
    "    # Size of whole population\n",
    "    total_population_size = len(nets)\n",
    "    \n",
    "    # Amount of parents to choose\n",
    "    if population_size == -1:\n",
    "        population_size = len(nets)\n",
    "        \n",
    "    parents = []\n",
    "    \n",
    "    # Chooses more likley parents with the top fittess functions\n",
    "    for i in range(population_size):\n",
    "        r0 = np.power(np.random.uniform(), 2)\n",
    "        r1 = np.power(np.random.uniform(), 2)\n",
    "        parents.append((\n",
    "            clone_net(nets[int(np.floor(r0*total_population_size))]), \n",
    "            clone_net(nets[int(np.floor(r1*total_population_size))])))\n",
    "        \n",
    "    return parents\n"
   ]
  },
  {
   "cell_type": "code",
   "execution_count": 5,
   "metadata": {
    "collapsed": true
   },
   "outputs": [],
   "source": [
    "# Crosses the parent pairs over with each other to get offspring\n",
    "def mutate_neurons(parents):\n",
    "    # Mutates two nets together, neuron by neuron not\n",
    "    # weight by weight to retain the neurons functionality\n",
    "    def _mutate(net0, net1):\n",
    "        layer_count = len(net0)\n",
    "        child = clone_net(net0)\n",
    "        \n",
    "        # For each layer in the network\n",
    "        for l in range(layer_count):\n",
    "            l0_len = net0[l].shape[0] # Neuron count in layer_0\n",
    "            l1_len = net0[l].shape[1] # and layer_1\n",
    "            \n",
    "            # For each neuron\n",
    "            for i in range(l1_len):\n",
    "                # Choose the neuron randomly from net0 or net1\n",
    "                if np.random.uniform() >= 0.5:\n",
    "                    layer = net0[l]\n",
    "                else: \n",
    "                    layer = net1[l]\n",
    "                    \n",
    "                # Add neuron to child\n",
    "                for j in range(l0_len):\n",
    "                    child[l][j,i] = layer[j,i]\n",
    "        return child # Give birth ;)\n",
    "    \n",
    "    return [_mutate(x[0],x[1]) for x in parents]\n"
   ]
  },
  {
   "cell_type": "code",
   "execution_count": 6,
   "metadata": {
    "collapsed": true
   },
   "outputs": [],
   "source": [
    "# Randomizes the provided agent networks\n",
    "def randomize(nets,percentage,max_change_rate):\n",
    "    def _randomize(net,percentage,max_change_rate):\n",
    "        \n",
    "        for i in range(len(net)):\n",
    "            w = net[i] # All weights in all layers\n",
    "            rand = np.random.random(w.shape) # Random weight like array\n",
    "            \n",
    "            # Get range of indices that are not supposed to be changed\n",
    "            y = np.where(rand > percentage) \n",
    "            \n",
    "            rand = 2*rand-1 # Get rand between -1 and 1\n",
    "            rand *= np.abs(rand) # Square it to make small weight changes more likely\n",
    "            rand *= max_change_rate # Get it between the max change rate\n",
    "            rand[y] = 0 # Set indices not supposed to change to 0\n",
    "            w += rand # Add the random changes to the weights\n",
    "    [_randomize(x,percentage,max_change_rate) for x in nets]\n",
    "    "
   ]
  },
  {
   "cell_type": "code",
   "execution_count": 7,
   "metadata": {
    "collapsed": false,
    "scrolled": false
   },
   "outputs": [
    {
     "name": "stderr",
     "output_type": "stream",
     "text": [
      "[2017-02-12 02:09:48,481] Making new env: CartPole-v0\n"
     ]
    },
    {
     "name": "stdout",
     "output_type": "stream",
     "text": [
      "Random-Percentage: 0.2\n",
      "Maximum-Change-Rate: 0.01\n",
      "Max-Length-Of-Each-Run: 500\n",
      "Population-Size: 100\n",
      "Child-Percentage: 0.8\n"
     ]
    }
   ],
   "source": [
    "# Parameters\n",
    "env_name = \"CartPole-v0\"\n",
    "env = gym.make(env_name)\n",
    "\n",
    "observation = env.reset()\n",
    "obs_dim = len(observation) # Network input size\n",
    "\n",
    "# Check of the environment is taking action indices\n",
    "# or float activation. acion_len = Network output size\n",
    "if type(env.action_space) == gym.spaces.discrete.Discrete:\n",
    "    action_len = env.action_space.n\n",
    "    box = False\n",
    "else:\n",
    "    action_len = env.action_space.shape[0]\n",
    "    box = True\n",
    "\n",
    "\n",
    "random_percentage = 0.2 # Percentage of weights to change\n",
    "max_change_rate = 0.01 # Maximum random weight change rate\n",
    "train_length = 500 # Frames after which each run is cutoff\n",
    "population_size = 100 # Amount of agents per generation\n",
    "\n",
    "# Percentage of parent crossovers in the next generation\n",
    "parents_portion = 0.8 \n",
    "\n",
    "print \"Random-Percentage:\",random_percentage\n",
    "print \"Maximum-Change-Rate:\",max_change_rate\n",
    "print \"Max-Length-Of-Each-Run:\",train_length\n",
    "print \"Population-Size:\",population_size\n",
    "print \"Child-Percentage:\",parents_portion\n"
   ]
  },
  {
   "cell_type": "code",
   "execution_count": 8,
   "metadata": {
    "collapsed": false
   },
   "outputs": [
    {
     "name": "stdout",
     "output_type": "stream",
     "text": [
      "Population: 0 Best-Fittness: 200.0\n",
      "Population: 1 Best-Fittness: 200.0\n",
      "Population: 2 Best-Fittness: 200.0\n",
      "Population: 3 Best-Fittness: 200.0\n",
      "Population: 4 Best-Fittness: 200.0\n",
      "Population: 5 Best-Fittness: 200.0\n",
      "Population: 6 Best-Fittness: 200.0\n",
      "Population: 7 Best-Fittness: 200.0\n",
      "Population: 8 Best-Fittness: 200.0\n",
      "Population: 9 Best-Fittness: 200.0\n",
      "Population: 10 Best-Fittness: 200.0\n",
      "Population: 11 Best-Fittness: 200.0\n",
      "Population: 12 Best-Fittness: 200.0\n",
      "Population: 13 Best-Fittness: 200.0\n",
      "Population: 14 Best-Fittness: 200.0\n",
      "Population: 15 Best-Fittness: 200.0\n",
      "Population: 16 Best-Fittness: 200.0\n",
      "Population: 17 Best-Fittness: 200.0\n",
      "Population: 18 Best-Fittness: 200.0\n",
      "Population: 19 Best-Fittness: 200.0\n"
     ]
    }
   ],
   "source": [
    "# Let's get to the action\n",
    "epochs = 20 # Runs 20 generations\n",
    "hidden_size = [] # Hidden layer size (no hidden layers for CartPole-v0)\n",
    "\n",
    "# Initializing the population\n",
    "nets = init(\n",
    "    obs_dim,\n",
    "    action_len,\n",
    "    len(hidden_size),\n",
    "    hidden_size,\n",
    "    population_size)\n",
    "\n",
    "# Training loop\n",
    "for _ in range(epochs):\n",
    "    # Calculate fitness values for each agend\n",
    "    fits = np.zeros((len(nets)),dtype=np.float32)\n",
    "    for i in range(len(nets)):\n",
    "        fits[i]  = train(nets[i],train_length,env,box,render=False)\n",
    "        \n",
    "    # Sort parents by fittness - the fittest at the top\n",
    "    nets_inds = fits.argsort()[::-1]\n",
    "    sorted_nets = [nets[i] for i in nets_inds]\n",
    "    \n",
    "    # Choose parent pairs of the next generation\n",
    "    parents = choose_parents(\n",
    "        sorted_nets,\n",
    "        int(population_size*parents_portion))\n",
    "    \n",
    "    # Mutate the parents together to get the offspring\n",
    "    mutated_childs = mutate_neurons(parents)\n",
    "    \n",
    "    # Keep the top parents\n",
    "    parent_childs = sorted_nets[0:int(population_size*(1-parents_portion))]\n",
    "    \n",
    "    # Combine the children\n",
    "    childs = mutated_childs\n",
    "    childs.extend(parent_childs)\n",
    "    \n",
    "    # Randomize the weights of the children networks\n",
    "    randomize(childs, random_percentage, max_change_rate)\n",
    "    \n",
    "    # Get the best fittness score and display the agent that achived it\n",
    "    best_fit = np.argmax(fits)\n",
    "    print \"Population:\",_,\"Best-Fittness:\",fits[best_fit]\n",
    "    train(nets[best_fit],train_length,env,box,render=False)\n",
    "    \n",
    "    # Update the generation\n",
    "    nets = [[x.copy() for x in net] for net in childs]\n",
    "    "
   ]
  }
 ],
 "metadata": {
  "kernelspec": {
   "display_name": "Python 2",
   "language": "python",
   "name": "python2"
  },
  "language_info": {
   "codemirror_mode": {
    "name": "ipython",
    "version": 2
   },
   "file_extension": ".py",
   "mimetype": "text/x-python",
   "name": "python",
   "nbconvert_exporter": "python",
   "pygments_lexer": "ipython2",
   "version": "2.7.10"
  }
 },
 "nbformat": 4,
 "nbformat_minor": 2
}
